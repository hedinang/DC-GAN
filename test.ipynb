{
 "cells": [
  {
   "cell_type": "code",
   "execution_count": null,
   "metadata": {},
   "outputs": [],
   "source": []
  },
  {
   "cell_type": "code",
   "execution_count": 10,
   "metadata": {},
   "outputs": [
    {
     "name": "stdout",
     "output_type": "stream",
     "text": [
      "Found 90 images belonging to 1 classes.\n",
      "Found 90 images belonging to 1 classes.\n",
      "(90, 512, 512, 3)\n"
     ]
    }
   ],
   "source": [
    "from __future__ import print_function\n",
    "from keras.preprocessing.image import ImageDataGenerator\n",
    "\n",
    "def adjustData(img,label):\n",
    "    img = img / 255\n",
    "    label = label / 255\n",
    "    return (img, label)\n",
    "\n",
    "def trainGenerator(batch_size,train_path,image_folder,label_folder,aug_dict,image_color_mode = \"rgb\",\n",
    "                    label_color_mode = \"rgb\",image_save_prefix  = \"image\",label_save_prefix  = \"label\",\n",
    "                   save_to_dir = \"\",target_size = (512,512),seed = 1):\n",
    "    '''\n",
    "    can generate image and label at the same time\n",
    "    use the same seed for image_datagen and label_datagen to ensure the transformation for image and label is the same\n",
    "    if you want to visualize the results of generator, set save_to_dir = \"your path\"\n",
    "    '''\n",
    "    image_datagen = ImageDataGenerator(**aug_dict)\n",
    "    label_datagen = ImageDataGenerator(**aug_dict)\n",
    "    image_generator = image_datagen.flow_from_directory(\n",
    "        train_path,\n",
    "        classes = [image_folder],\n",
    "        class_mode = None,\n",
    "        color_mode = image_color_mode,\n",
    "        target_size = target_size,\n",
    "        batch_size = batch_size,\n",
    "        save_to_dir = save_to_dir,\n",
    "        save_prefix  = image_save_prefix,\n",
    "        seed = seed)\n",
    "    label_generator = label_datagen.flow_from_directory(\n",
    "        train_path,\n",
    "        classes = [label_folder],\n",
    "        class_mode = None,\n",
    "        color_mode = label_color_mode,\n",
    "        target_size = target_size,\n",
    "        batch_size = batch_size,\n",
    "        save_to_dir = save_to_dir,\n",
    "        save_prefix  = label_save_prefix,\n",
    "        seed = seed)\n",
    "    train_generator = zip(image_generator, label_generator)\n",
    "    for (img, label) in train_generator:\n",
    "        img, label = adjustData(img, label)\n",
    "        yield (img, label)\n",
    "\n",
    "batch_size = 128\n",
    "data_gen_args = dict(rotation_range=0.2,\n",
    "                    width_shift_range=0.05,\n",
    "                    height_shift_range=0.05,\n",
    "                    shear_range=0.05,\n",
    "                    zoom_range=0.05,\n",
    "                    horizontal_flip=True,\n",
    "                    fill_mode='nearest')\n",
    "\n",
    "trainGene = trainGenerator(batch_size,'data/','train','train_label',data_gen_args,save_to_dir = None)\n",
    "i = 0\n",
    "for (img, label) in trainGene :\n",
    "    print(img.shape)\n",
    "    break"
   ]
  },
  {
   "cell_type": "code",
   "execution_count": null,
   "metadata": {},
   "outputs": [],
   "source": []
  }
 ],
 "metadata": {
  "kernelspec": {
   "display_name": "Python 3",
   "language": "python",
   "name": "python3"
  },
  "language_info": {
   "codemirror_mode": {
    "name": "ipython",
    "version": 3
   },
   "file_extension": ".py",
   "mimetype": "text/x-python",
   "name": "python",
   "nbconvert_exporter": "python",
   "pygments_lexer": "ipython3",
   "version": "3.6.3"
  }
 },
 "nbformat": 4,
 "nbformat_minor": 2
}
